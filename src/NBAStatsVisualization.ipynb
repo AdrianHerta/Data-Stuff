{
 "cells": [
  {
   "cell_type": "code",
   "execution_count": null,
   "metadata": {},
   "outputs": [],
   "source": [
    "import pandas as pd\n",
    "import seaborn as sb"
   ]
  },
  {
   "cell_type": "code",
   "execution_count": null,
   "metadata": {},
   "outputs": [],
   "source": [
    "team, season = input('Please specify Team and Season in this format -> \"BOS 2018\" :').split(' ')\n",
    "print(team + ' ' + season)\n",
    "teamDf = pd.read_json(f'../NBA Data/{team}/{season}.json').sort_values(by=['No.'], key=lambda col: col.astype(int))\n",
    "teamDf"
   ]
  },
  {
   "cell_type": "code",
   "execution_count": null,
   "metadata": {},
   "outputs": [],
   "source": [
    "teamDf.plot.bar(x='Name', y='Points per Game')"
   ]
  }
 ],
 "metadata": {
  "kernelspec": {
   "display_name": "Python 3.10.5 ('.venv': venv)",
   "language": "python",
   "name": "python3"
  },
  "language_info": {
   "codemirror_mode": {
    "name": "ipython",
    "version": 3
   },
   "file_extension": ".py",
   "mimetype": "text/x-python",
   "name": "python",
   "nbconvert_exporter": "python",
   "pygments_lexer": "ipython3",
   "version": "3.10.5"
  },
  "orig_nbformat": 4,
  "vscode": {
   "interpreter": {
    "hash": "c21d886a1a481cd4894d96fd41a8c150f4d40167ff79e81de970a65c45fb87ce"
   }
  }
 },
 "nbformat": 4,
 "nbformat_minor": 2
}
