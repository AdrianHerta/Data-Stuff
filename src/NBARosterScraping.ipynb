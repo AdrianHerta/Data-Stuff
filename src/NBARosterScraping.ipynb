{
 "cells": [
  {
   "cell_type": "markdown",
   "metadata": {},
   "source": [
    "# NBA Roster Scraping\n",
    "*(ref: Basketball Reference)*\n",
    "#### To use, get a __[Basketball Reference](https://www.basketball-reference.com/)__ link of any roster from any team and any season.\n",
    ">Link example: __[https://www.basketball-reference.com/teams/AAA/XXXX.html](https://www.basketball-reference.com/teams/PHI/2021.html)__ → Replace **AAA** with the team acronym and **XXXX** with the season's year.\n"
   ]
  },
  {
   "cell_type": "code",
   "execution_count": 1,
   "metadata": {},
   "outputs": [],
   "source": [
    "import pandas as pd\n",
    "import requests as req\n",
    "from bs4 import BeautifulSoup\n",
    "import json\n",
    "import os"
   ]
  },
  {
   "cell_type": "markdown",
   "metadata": {},
   "source": [
    "#### Getting the webpage, parsing it and prettifying it with BeautifulSoup"
   ]
  },
  {
   "cell_type": "code",
   "execution_count": 2,
   "metadata": {},
   "outputs": [],
   "source": [
    "url = input()\n",
    "page = req.get(url)\n",
    "\n",
    "soup = BeautifulSoup(page.content, 'html.parser')\n"
   ]
  },
  {
   "cell_type": "markdown",
   "metadata": {},
   "source": [
    "#### Getting the roster table with some relevant columns and transforming it into a DataFrame"
   ]
  },
  {
   "cell_type": "code",
   "execution_count": 3,
   "metadata": {},
   "outputs": [],
   "source": [
    "roster = soup.find(name='table', attrs={'id': 'roster'})\n",
    "teamRoster = []\n",
    "\n",
    "for row in roster.find('tbody').find_all('tr'):\n",
    "    player = {}\n",
    "    player['Name'] = row.find(attrs={'data-stat' : 'player'}).text\n",
    "    player['No.'] = row.find(attrs={'data-stat' : 'number'}).text\n",
    "    player['Position'] = row.find(attrs={'data-stat' : 'pos'}).text\n",
    "    player['Height'] = row.find(attrs={'data-stat' : 'height'}).text\n",
    "    player['Weight'] = row.find(attrs={'data-stat' : 'weight'}).text\n",
    "    teamRoster.append(player)\n",
    "\n",
    "rosterDf = pd.DataFrame(teamRoster)"
   ]
  },
  {
   "cell_type": "markdown",
   "metadata": {},
   "source": [
    "#### Getting the Per Game stats table and transforming it into a DataFrame"
   ]
  },
  {
   "cell_type": "code",
   "execution_count": 4,
   "metadata": {},
   "outputs": [],
   "source": [
    "perGame = soup.find(name=\"table\", attrs={'id': 'per_game'})\n",
    "\n",
    "playerStats = []\n",
    "for row in perGame.find('tbody').find_all('tr'):\n",
    "    player = {}\n",
    "    player['Name'] = row.find(attrs={'data-stat' : 'player'}).text\n",
    "    player['Age'] = row.find('td', {'data-stat' : 'age'}).text\n",
    "    player['Min per Game'] = row.find('td', {'data-stat' : 'mp_per_g'}).text\n",
    "    player['Field Goal %'] = row.find('td', {'data-stat' : 'fg_pct'}).text\n",
    "    player['Rebounds per Game'] = row.find('td', {'data-stat' : 'trb_per_g'}).text\n",
    "    player['Assists per Game'] = row.find('td', {'data-stat' : 'ast_per_g'}).text\n",
    "    player['Steals per Game'] = row.find('td', {'data-stat' : 'stl_per_g'}).text\n",
    "    player['Blocks per Game'] = row.find('td', {'data-stat' : 'blk_per_g'}).text\n",
    "    player['Turnovers per Game'] = row.find('td', {'data-stat' : 'tov_per_g'}).text\n",
    "    player['Points per Game'] = row.find('td', {'data-stat' : 'pts_per_g'}).text\n",
    "\n",
    "    playerStats.append(player)\n",
    "\n",
    "playerStatsDf = pd.DataFrame(playerStats)"
   ]
  },
  {
   "cell_type": "markdown",
   "metadata": {},
   "source": [
    "#### Merging the previous tables into one single DataFrame, sorted by Jersey No."
   ]
  },
  {
   "cell_type": "code",
   "execution_count": 5,
   "metadata": {},
   "outputs": [
    {
     "ename": "ValueError",
     "evalue": "invalid literal for int() with base 10: '1, 23'",
     "output_type": "error",
     "traceback": [
      "\u001b[1;31m---------------------------------------------------------------------------\u001b[0m",
      "\u001b[1;31mValueError\u001b[0m                                Traceback (most recent call last)",
      "\u001b[1;32mc:\\Users\\adrherta\\Documents\\Data Stuff\\src\\NBARosterScraping.ipynb Cell 10\u001b[0m in \u001b[0;36m<cell line: 1>\u001b[1;34m()\u001b[0m\n\u001b[1;32m----> <a href='vscode-notebook-cell:/c%3A/Users/adrherta/Documents/Data%20Stuff/src/NBARosterScraping.ipynb#ch0000009?line=0'>1</a>\u001b[0m teamDf \u001b[39m=\u001b[39m pd\u001b[39m.\u001b[39;49mmerge(rosterDf, playerStatsDf, on\u001b[39m=\u001b[39;49m\u001b[39m'\u001b[39;49m\u001b[39mName\u001b[39;49m\u001b[39m'\u001b[39;49m)\u001b[39m.\u001b[39;49msort_values(by\u001b[39m=\u001b[39;49m[\u001b[39m'\u001b[39;49m\u001b[39mNo.\u001b[39;49m\u001b[39m'\u001b[39;49m], key\u001b[39m=\u001b[39;49m\u001b[39mlambda\u001b[39;49;00m col: col\u001b[39m.\u001b[39;49mastype(\u001b[39mint\u001b[39;49m))\n",
      "File \u001b[1;32mc:\\Users\\adrherta\\Documents\\Data Stuff\\.venv\\lib\\site-packages\\pandas\\util\\_decorators.py:311\u001b[0m, in \u001b[0;36mdeprecate_nonkeyword_arguments.<locals>.decorate.<locals>.wrapper\u001b[1;34m(*args, **kwargs)\u001b[0m\n\u001b[0;32m    305\u001b[0m \u001b[39mif\u001b[39;00m \u001b[39mlen\u001b[39m(args) \u001b[39m>\u001b[39m num_allow_args:\n\u001b[0;32m    306\u001b[0m     warnings\u001b[39m.\u001b[39mwarn(\n\u001b[0;32m    307\u001b[0m         msg\u001b[39m.\u001b[39mformat(arguments\u001b[39m=\u001b[39marguments),\n\u001b[0;32m    308\u001b[0m         \u001b[39mFutureWarning\u001b[39;00m,\n\u001b[0;32m    309\u001b[0m         stacklevel\u001b[39m=\u001b[39mstacklevel,\n\u001b[0;32m    310\u001b[0m     )\n\u001b[1;32m--> 311\u001b[0m \u001b[39mreturn\u001b[39;00m func(\u001b[39m*\u001b[39margs, \u001b[39m*\u001b[39m\u001b[39m*\u001b[39mkwargs)\n",
      "File \u001b[1;32mc:\\Users\\adrherta\\Documents\\Data Stuff\\.venv\\lib\\site-packages\\pandas\\core\\frame.py:6330\u001b[0m, in \u001b[0;36mDataFrame.sort_values\u001b[1;34m(self, by, axis, ascending, inplace, kind, na_position, ignore_index, key)\u001b[0m\n\u001b[0;32m   6327\u001b[0m     \u001b[39mif\u001b[39;00m \u001b[39misinstance\u001b[39m(ascending, (\u001b[39mtuple\u001b[39m, \u001b[39mlist\u001b[39m)):\n\u001b[0;32m   6328\u001b[0m         ascending \u001b[39m=\u001b[39m ascending[\u001b[39m0\u001b[39m]\n\u001b[1;32m-> 6330\u001b[0m     indexer \u001b[39m=\u001b[39m nargsort(\n\u001b[0;32m   6331\u001b[0m         k, kind\u001b[39m=\u001b[39;49mkind, ascending\u001b[39m=\u001b[39;49mascending, na_position\u001b[39m=\u001b[39;49mna_position, key\u001b[39m=\u001b[39;49mkey\n\u001b[0;32m   6332\u001b[0m     )\n\u001b[0;32m   6333\u001b[0m \u001b[39melse\u001b[39;00m:\n\u001b[0;32m   6334\u001b[0m     \u001b[39mreturn\u001b[39;00m \u001b[39mself\u001b[39m\u001b[39m.\u001b[39mcopy()\n",
      "File \u001b[1;32mc:\\Users\\adrherta\\Documents\\Data Stuff\\.venv\\lib\\site-packages\\pandas\\core\\sorting.py:387\u001b[0m, in \u001b[0;36mnargsort\u001b[1;34m(items, kind, ascending, na_position, key, mask)\u001b[0m\n\u001b[0;32m    365\u001b[0m \u001b[39m\"\"\"\u001b[39;00m\n\u001b[0;32m    366\u001b[0m \u001b[39mIntended to be a drop-in replacement for np.argsort which handles NaNs.\u001b[39;00m\n\u001b[0;32m    367\u001b[0m \n\u001b[1;32m   (...)\u001b[0m\n\u001b[0;32m    383\u001b[0m \u001b[39mnp.ndarray[np.intp]\u001b[39;00m\n\u001b[0;32m    384\u001b[0m \u001b[39m\"\"\"\u001b[39;00m\n\u001b[0;32m    386\u001b[0m \u001b[39mif\u001b[39;00m key \u001b[39mis\u001b[39;00m \u001b[39mnot\u001b[39;00m \u001b[39mNone\u001b[39;00m:\n\u001b[1;32m--> 387\u001b[0m     items \u001b[39m=\u001b[39m ensure_key_mapped(items, key)\n\u001b[0;32m    388\u001b[0m     \u001b[39mreturn\u001b[39;00m nargsort(\n\u001b[0;32m    389\u001b[0m         items,\n\u001b[0;32m    390\u001b[0m         kind\u001b[39m=\u001b[39mkind,\n\u001b[1;32m   (...)\u001b[0m\n\u001b[0;32m    394\u001b[0m         mask\u001b[39m=\u001b[39mmask,\n\u001b[0;32m    395\u001b[0m     )\n\u001b[0;32m    397\u001b[0m \u001b[39mif\u001b[39;00m \u001b[39misinstance\u001b[39m(items, ABCRangeIndex):\n",
      "File \u001b[1;32mc:\\Users\\adrherta\\Documents\\Data Stuff\\.venv\\lib\\site-packages\\pandas\\core\\sorting.py:545\u001b[0m, in \u001b[0;36mensure_key_mapped\u001b[1;34m(values, key, levels)\u001b[0m\n\u001b[0;32m    542\u001b[0m \u001b[39mif\u001b[39;00m \u001b[39misinstance\u001b[39m(values, ABCMultiIndex):\n\u001b[0;32m    543\u001b[0m     \u001b[39mreturn\u001b[39;00m _ensure_key_mapped_multiindex(values, key, level\u001b[39m=\u001b[39mlevels)\n\u001b[1;32m--> 545\u001b[0m result \u001b[39m=\u001b[39m key(values\u001b[39m.\u001b[39;49mcopy())\n\u001b[0;32m    546\u001b[0m \u001b[39mif\u001b[39;00m \u001b[39mlen\u001b[39m(result) \u001b[39m!=\u001b[39m \u001b[39mlen\u001b[39m(values):\n\u001b[0;32m    547\u001b[0m     \u001b[39mraise\u001b[39;00m \u001b[39mValueError\u001b[39;00m(\n\u001b[0;32m    548\u001b[0m         \u001b[39m\"\u001b[39m\u001b[39mUser-provided `key` function must not change the shape of the array.\u001b[39m\u001b[39m\"\u001b[39m\n\u001b[0;32m    549\u001b[0m     )\n",
      "\u001b[1;32mc:\\Users\\adrherta\\Documents\\Data Stuff\\src\\NBARosterScraping.ipynb Cell 10\u001b[0m in \u001b[0;36m<lambda>\u001b[1;34m(col)\u001b[0m\n\u001b[1;32m----> <a href='vscode-notebook-cell:/c%3A/Users/adrherta/Documents/Data%20Stuff/src/NBARosterScraping.ipynb#ch0000009?line=0'>1</a>\u001b[0m teamDf \u001b[39m=\u001b[39m pd\u001b[39m.\u001b[39mmerge(rosterDf, playerStatsDf, on\u001b[39m=\u001b[39m\u001b[39m'\u001b[39m\u001b[39mName\u001b[39m\u001b[39m'\u001b[39m)\u001b[39m.\u001b[39msort_values(by\u001b[39m=\u001b[39m[\u001b[39m'\u001b[39m\u001b[39mNo.\u001b[39m\u001b[39m'\u001b[39m], key\u001b[39m=\u001b[39m\u001b[39mlambda\u001b[39;00m col: col\u001b[39m.\u001b[39;49mastype(\u001b[39mint\u001b[39;49m))\n",
      "File \u001b[1;32mc:\\Users\\adrherta\\Documents\\Data Stuff\\.venv\\lib\\site-packages\\pandas\\core\\generic.py:5912\u001b[0m, in \u001b[0;36mNDFrame.astype\u001b[1;34m(self, dtype, copy, errors)\u001b[0m\n\u001b[0;32m   5905\u001b[0m     results \u001b[39m=\u001b[39m [\n\u001b[0;32m   5906\u001b[0m         \u001b[39mself\u001b[39m\u001b[39m.\u001b[39miloc[:, i]\u001b[39m.\u001b[39mastype(dtype, copy\u001b[39m=\u001b[39mcopy)\n\u001b[0;32m   5907\u001b[0m         \u001b[39mfor\u001b[39;00m i \u001b[39min\u001b[39;00m \u001b[39mrange\u001b[39m(\u001b[39mlen\u001b[39m(\u001b[39mself\u001b[39m\u001b[39m.\u001b[39mcolumns))\n\u001b[0;32m   5908\u001b[0m     ]\n\u001b[0;32m   5910\u001b[0m \u001b[39melse\u001b[39;00m:\n\u001b[0;32m   5911\u001b[0m     \u001b[39m# else, only a single dtype is given\u001b[39;00m\n\u001b[1;32m-> 5912\u001b[0m     new_data \u001b[39m=\u001b[39m \u001b[39mself\u001b[39;49m\u001b[39m.\u001b[39;49m_mgr\u001b[39m.\u001b[39;49mastype(dtype\u001b[39m=\u001b[39;49mdtype, copy\u001b[39m=\u001b[39;49mcopy, errors\u001b[39m=\u001b[39;49merrors)\n\u001b[0;32m   5913\u001b[0m     \u001b[39mreturn\u001b[39;00m \u001b[39mself\u001b[39m\u001b[39m.\u001b[39m_constructor(new_data)\u001b[39m.\u001b[39m__finalize__(\u001b[39mself\u001b[39m, method\u001b[39m=\u001b[39m\u001b[39m\"\u001b[39m\u001b[39mastype\u001b[39m\u001b[39m\"\u001b[39m)\n\u001b[0;32m   5915\u001b[0m \u001b[39m# GH 33113: handle empty frame or series\u001b[39;00m\n",
      "File \u001b[1;32mc:\\Users\\adrherta\\Documents\\Data Stuff\\.venv\\lib\\site-packages\\pandas\\core\\internals\\managers.py:419\u001b[0m, in \u001b[0;36mBaseBlockManager.astype\u001b[1;34m(self, dtype, copy, errors)\u001b[0m\n\u001b[0;32m    418\u001b[0m \u001b[39mdef\u001b[39;00m \u001b[39mastype\u001b[39m(\u001b[39mself\u001b[39m: T, dtype, copy: \u001b[39mbool\u001b[39m \u001b[39m=\u001b[39m \u001b[39mFalse\u001b[39;00m, errors: \u001b[39mstr\u001b[39m \u001b[39m=\u001b[39m \u001b[39m\"\u001b[39m\u001b[39mraise\u001b[39m\u001b[39m\"\u001b[39m) \u001b[39m-\u001b[39m\u001b[39m>\u001b[39m T:\n\u001b[1;32m--> 419\u001b[0m     \u001b[39mreturn\u001b[39;00m \u001b[39mself\u001b[39;49m\u001b[39m.\u001b[39;49mapply(\u001b[39m\"\u001b[39;49m\u001b[39mastype\u001b[39;49m\u001b[39m\"\u001b[39;49m, dtype\u001b[39m=\u001b[39;49mdtype, copy\u001b[39m=\u001b[39;49mcopy, errors\u001b[39m=\u001b[39;49merrors)\n",
      "File \u001b[1;32mc:\\Users\\adrherta\\Documents\\Data Stuff\\.venv\\lib\\site-packages\\pandas\\core\\internals\\managers.py:304\u001b[0m, in \u001b[0;36mBaseBlockManager.apply\u001b[1;34m(self, f, align_keys, ignore_failures, **kwargs)\u001b[0m\n\u001b[0;32m    302\u001b[0m         applied \u001b[39m=\u001b[39m b\u001b[39m.\u001b[39mapply(f, \u001b[39m*\u001b[39m\u001b[39m*\u001b[39mkwargs)\n\u001b[0;32m    303\u001b[0m     \u001b[39melse\u001b[39;00m:\n\u001b[1;32m--> 304\u001b[0m         applied \u001b[39m=\u001b[39m \u001b[39mgetattr\u001b[39m(b, f)(\u001b[39m*\u001b[39m\u001b[39m*\u001b[39mkwargs)\n\u001b[0;32m    305\u001b[0m \u001b[39mexcept\u001b[39;00m (\u001b[39mTypeError\u001b[39;00m, \u001b[39mNotImplementedError\u001b[39;00m):\n\u001b[0;32m    306\u001b[0m     \u001b[39mif\u001b[39;00m \u001b[39mnot\u001b[39;00m ignore_failures:\n",
      "File \u001b[1;32mc:\\Users\\adrherta\\Documents\\Data Stuff\\.venv\\lib\\site-packages\\pandas\\core\\internals\\blocks.py:580\u001b[0m, in \u001b[0;36mBlock.astype\u001b[1;34m(self, dtype, copy, errors)\u001b[0m\n\u001b[0;32m    562\u001b[0m \u001b[39m\"\"\"\u001b[39;00m\n\u001b[0;32m    563\u001b[0m \u001b[39mCoerce to the new dtype.\u001b[39;00m\n\u001b[0;32m    564\u001b[0m \n\u001b[1;32m   (...)\u001b[0m\n\u001b[0;32m    576\u001b[0m \u001b[39mBlock\u001b[39;00m\n\u001b[0;32m    577\u001b[0m \u001b[39m\"\"\"\u001b[39;00m\n\u001b[0;32m    578\u001b[0m values \u001b[39m=\u001b[39m \u001b[39mself\u001b[39m\u001b[39m.\u001b[39mvalues\n\u001b[1;32m--> 580\u001b[0m new_values \u001b[39m=\u001b[39m astype_array_safe(values, dtype, copy\u001b[39m=\u001b[39;49mcopy, errors\u001b[39m=\u001b[39;49merrors)\n\u001b[0;32m    582\u001b[0m new_values \u001b[39m=\u001b[39m maybe_coerce_values(new_values)\n\u001b[0;32m    583\u001b[0m newb \u001b[39m=\u001b[39m \u001b[39mself\u001b[39m\u001b[39m.\u001b[39mmake_block(new_values)\n",
      "File \u001b[1;32mc:\\Users\\adrherta\\Documents\\Data Stuff\\.venv\\lib\\site-packages\\pandas\\core\\dtypes\\cast.py:1292\u001b[0m, in \u001b[0;36mastype_array_safe\u001b[1;34m(values, dtype, copy, errors)\u001b[0m\n\u001b[0;32m   1289\u001b[0m     dtype \u001b[39m=\u001b[39m dtype\u001b[39m.\u001b[39mnumpy_dtype\n\u001b[0;32m   1291\u001b[0m \u001b[39mtry\u001b[39;00m:\n\u001b[1;32m-> 1292\u001b[0m     new_values \u001b[39m=\u001b[39m astype_array(values, dtype, copy\u001b[39m=\u001b[39;49mcopy)\n\u001b[0;32m   1293\u001b[0m \u001b[39mexcept\u001b[39;00m (\u001b[39mValueError\u001b[39;00m, \u001b[39mTypeError\u001b[39;00m):\n\u001b[0;32m   1294\u001b[0m     \u001b[39m# e.g. astype_nansafe can fail on object-dtype of strings\u001b[39;00m\n\u001b[0;32m   1295\u001b[0m     \u001b[39m#  trying to convert to float\u001b[39;00m\n\u001b[0;32m   1296\u001b[0m     \u001b[39mif\u001b[39;00m errors \u001b[39m==\u001b[39m \u001b[39m\"\u001b[39m\u001b[39mignore\u001b[39m\u001b[39m\"\u001b[39m:\n",
      "File \u001b[1;32mc:\\Users\\adrherta\\Documents\\Data Stuff\\.venv\\lib\\site-packages\\pandas\\core\\dtypes\\cast.py:1237\u001b[0m, in \u001b[0;36mastype_array\u001b[1;34m(values, dtype, copy)\u001b[0m\n\u001b[0;32m   1234\u001b[0m     values \u001b[39m=\u001b[39m values\u001b[39m.\u001b[39mastype(dtype, copy\u001b[39m=\u001b[39mcopy)\n\u001b[0;32m   1236\u001b[0m \u001b[39melse\u001b[39;00m:\n\u001b[1;32m-> 1237\u001b[0m     values \u001b[39m=\u001b[39m astype_nansafe(values, dtype, copy\u001b[39m=\u001b[39;49mcopy)\n\u001b[0;32m   1239\u001b[0m \u001b[39m# in pandas we don't store numpy str dtypes, so convert to object\u001b[39;00m\n\u001b[0;32m   1240\u001b[0m \u001b[39mif\u001b[39;00m \u001b[39misinstance\u001b[39m(dtype, np\u001b[39m.\u001b[39mdtype) \u001b[39mand\u001b[39;00m \u001b[39missubclass\u001b[39m(values\u001b[39m.\u001b[39mdtype\u001b[39m.\u001b[39mtype, \u001b[39mstr\u001b[39m):\n",
      "File \u001b[1;32mc:\\Users\\adrherta\\Documents\\Data Stuff\\.venv\\lib\\site-packages\\pandas\\core\\dtypes\\cast.py:1154\u001b[0m, in \u001b[0;36mastype_nansafe\u001b[1;34m(arr, dtype, copy, skipna)\u001b[0m\n\u001b[0;32m   1150\u001b[0m \u001b[39melif\u001b[39;00m is_object_dtype(arr\u001b[39m.\u001b[39mdtype):\n\u001b[0;32m   1151\u001b[0m \n\u001b[0;32m   1152\u001b[0m     \u001b[39m# work around NumPy brokenness, #1987\u001b[39;00m\n\u001b[0;32m   1153\u001b[0m     \u001b[39mif\u001b[39;00m np\u001b[39m.\u001b[39missubdtype(dtype\u001b[39m.\u001b[39mtype, np\u001b[39m.\u001b[39minteger):\n\u001b[1;32m-> 1154\u001b[0m         \u001b[39mreturn\u001b[39;00m lib\u001b[39m.\u001b[39;49mastype_intsafe(arr, dtype)\n\u001b[0;32m   1156\u001b[0m     \u001b[39m# if we have a datetime/timedelta array of objects\u001b[39;00m\n\u001b[0;32m   1157\u001b[0m     \u001b[39m# then coerce to a proper dtype and recall astype_nansafe\u001b[39;00m\n\u001b[0;32m   1159\u001b[0m     \u001b[39melif\u001b[39;00m is_datetime64_dtype(dtype):\n",
      "File \u001b[1;32mc:\\Users\\adrherta\\Documents\\Data Stuff\\.venv\\lib\\site-packages\\pandas\\_libs\\lib.pyx:668\u001b[0m, in \u001b[0;36mpandas._libs.lib.astype_intsafe\u001b[1;34m()\u001b[0m\n",
      "\u001b[1;31mValueError\u001b[0m: invalid literal for int() with base 10: '1, 23'"
     ]
    }
   ],
   "source": [
    "teamDf = pd.merge(rosterDf, playerStatsDf, on='Name').sort_values(by=['No.'], key=lambda col: col.astype(int))\n"
   ]
  },
  {
   "cell_type": "markdown",
   "metadata": {},
   "source": [
    "#### Output to JSON\n",
    "Writing the DataFrame to a JSON file in an organized, *database-like*, File System, in a *table* orientation. <br>\n",
    "If the specific web page has already been scraped, its JSON will be overriden."
   ]
  },
  {
   "cell_type": "code",
   "execution_count": null,
   "metadata": {},
   "outputs": [],
   "source": [
    "jsonDf = teamDf.to_json()\n",
    "jsonOutput = json.loads(jsonDf)\n",
    "teamName = url.split('/')[-2] # getting the 'PHI' from '/PHI/2020.html' (ex.)\n",
    "season = url.split('/')[-1].split('.')[0] # getting '2020' from '2020.html' (ex.), which is how all the used links are built\n",
    "path = f'../NBA Data/{teamName}'\n",
    "if not os.path.exists(path): os.makedirs(path) # creating the folder of the team that's being read \n",
    "f = open(path + f'/{season}.json', 'w')\n",
    "json.dump(jsonOutput,f, indent=4)\n",
    "f.close()"
   ]
  },
  {
   "cell_type": "markdown",
   "metadata": {},
   "source": [
    "### Final DataFrame:"
   ]
  },
  {
   "cell_type": "code",
   "execution_count": null,
   "metadata": {},
   "outputs": [],
   "source": [
    "teamDf.style.hide_index()"
   ]
  }
 ],
 "metadata": {
  "kernelspec": {
   "display_name": "Python 3.10.5 ('.venv': venv)",
   "language": "python",
   "name": "python3"
  },
  "language_info": {
   "codemirror_mode": {
    "name": "ipython",
    "version": 3
   },
   "file_extension": ".py",
   "mimetype": "text/x-python",
   "name": "python",
   "nbconvert_exporter": "python",
   "pygments_lexer": "ipython3",
   "version": "3.10.5"
  },
  "orig_nbformat": 4,
  "vscode": {
   "interpreter": {
    "hash": "c21d886a1a481cd4894d96fd41a8c150f4d40167ff79e81de970a65c45fb87ce"
   }
  }
 },
 "nbformat": 4,
 "nbformat_minor": 2
}
